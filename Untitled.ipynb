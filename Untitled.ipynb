{
 "cells": [
  {
   "cell_type": "code",
   "execution_count": 1,
   "id": "ba1db031-a92b-4213-bb9e-0a433ffa1de8",
   "metadata": {},
   "outputs": [],
   "source": [
    "import pandas as pd"
   ]
  },
  {
   "cell_type": "code",
   "execution_count": 2,
   "id": "2adf9a32-a987-4e7c-a43e-bb8203741e4e",
   "metadata": {},
   "outputs": [],
   "source": [
    "data = pd.read_csv(\"test_data/etl_output/parsed_comments.csv\")"
   ]
  },
  {
   "cell_type": "code",
   "execution_count": 3,
   "id": "96459c35-b982-4937-9aa3-fecd2729236f",
   "metadata": {},
   "outputs": [
    {
     "data": {
      "text/html": [
       "<div>\n",
       "<style scoped>\n",
       "    .dataframe tbody tr th:only-of-type {\n",
       "        vertical-align: middle;\n",
       "    }\n",
       "\n",
       "    .dataframe tbody tr th {\n",
       "        vertical-align: top;\n",
       "    }\n",
       "\n",
       "    .dataframe thead th {\n",
       "        text-align: right;\n",
       "    }\n",
       "</style>\n",
       "<table border=\"1\" class=\"dataframe\">\n",
       "  <thead>\n",
       "    <tr style=\"text-align: right;\">\n",
       "      <th></th>\n",
       "      <th>comment_text</th>\n",
       "      <th>comment_code_value</th>\n",
       "      <th>original_text</th>\n",
       "      <th>significance</th>\n",
       "    </tr>\n",
       "  </thead>\n",
       "  <tbody>\n",
       "    <tr>\n",
       "      <th>0</th>\n",
       "      <td>We convinced need project concerns negative im...</td>\n",
       "      <td>Purpose and Need</td>\n",
       "      <td>We have yet to be convinced of the need for th...</td>\n",
       "      <td>True</td>\n",
       "    </tr>\n",
       "    <tr>\n",
       "      <th>1</th>\n",
       "      <td>We believe property owners proposed corridor b...</td>\n",
       "      <td>Market values</td>\n",
       "      <td>We believe the property owners along the propo...</td>\n",
       "      <td>True</td>\n",
       "    </tr>\n",
       "    <tr>\n",
       "      <th>2</th>\n",
       "      <td>We believe property owners proposed corridor b...</td>\n",
       "      <td>Cost/Benefit Outcome</td>\n",
       "      <td>We believe the property owners along the propo...</td>\n",
       "      <td>True</td>\n",
       "    </tr>\n",
       "    <tr>\n",
       "      <th>3</th>\n",
       "      <td>Irreputable damage unique geographical region</td>\n",
       "      <td>General Land Use</td>\n",
       "      <td>Irreputable damage will be done to a unique ge...</td>\n",
       "      <td>True</td>\n",
       "    </tr>\n",
       "    <tr>\n",
       "      <th>4</th>\n",
       "      <td>I want power line stop</td>\n",
       "      <td>Position, No Rationale</td>\n",
       "      <td>I do not want this power line, and doing what ...</td>\n",
       "      <td>True</td>\n",
       "    </tr>\n",
       "  </tbody>\n",
       "</table>\n",
       "</div>"
      ],
      "text/plain": [
       "                                        comment_text      comment_code_value  \\\n",
       "0  We convinced need project concerns negative im...        Purpose and Need   \n",
       "1  We believe property owners proposed corridor b...           Market values   \n",
       "2  We believe property owners proposed corridor b...    Cost/Benefit Outcome   \n",
       "3     Irreputable damage unique geographical region         General Land Use   \n",
       "4                            I want power line stop   Position, No Rationale   \n",
       "\n",
       "                                       original_text  significance  \n",
       "0  We have yet to be convinced of the need for th...          True  \n",
       "1  We believe the property owners along the propo...          True  \n",
       "2  We believe the property owners along the propo...          True  \n",
       "3  Irreputable damage will be done to a unique ge...          True  \n",
       "4  I do not want this power line, and doing what ...          True  "
      ]
     },
     "execution_count": 3,
     "metadata": {},
     "output_type": "execute_result"
    }
   ],
   "source": [
    "data.head()"
   ]
  },
  {
   "cell_type": "code",
   "execution_count": null,
   "id": "debe5a58-bfe2-4de7-ae69-779c4b7f836e",
   "metadata": {},
   "outputs": [],
   "source": []
  }
 ],
 "metadata": {
  "kernelspec": {
   "display_name": "Python 3 (ipykernel)",
   "language": "python",
   "name": "python3"
  },
  "language_info": {
   "codemirror_mode": {
    "name": "ipython",
    "version": 3
   },
   "file_extension": ".py",
   "mimetype": "text/x-python",
   "name": "python",
   "nbconvert_exporter": "python",
   "pygments_lexer": "ipython3",
   "version": "3.9.5"
  }
 },
 "nbformat": 4,
 "nbformat_minor": 5
}
