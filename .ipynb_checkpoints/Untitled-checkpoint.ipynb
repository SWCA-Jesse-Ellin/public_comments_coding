{
 "cells": [
  {
   "cell_type": "code",
   "execution_count": 4,
   "id": "56aaa9fc-2eac-4281-9368-a9327009c8a3",
   "metadata": {},
   "outputs": [],
   "source": [
    "from pipeline.data_pipeline.pipe import DataPipeline\n",
    "from pipeline.model_pipeline.NaiveModel import NaiveInterface"
   ]
  },
  {
   "cell_type": "code",
   "execution_count": 5,
   "id": "1310ce55-0aee-438e-b83f-a0aa68774143",
   "metadata": {},
   "outputs": [],
   "source": [
    "import os\n",
    "import pandas as pd"
   ]
  },
  {
   "cell_type": "code",
   "execution_count": 7,
   "id": "7096b254-67fc-4e13-ac6f-b6f90add7e65",
   "metadata": {},
   "outputs": [],
   "source": [
    "INPUT_PATH = \"test_data/raw\"\n",
    "ETL_PATH = \"test_data/etl_output\"\n",
    "OUTPUT_FILE = \"parsed_comments.csv\"\n",
    "if not os.path.isdir(ETL_PATH):\n",
    "\tos.mkdir(ETL_PATH)"
   ]
  },
  {
   "cell_type": "code",
   "execution_count": 8,
   "id": "7824bb73-b079-4edf-8a43-eb53e952b8b1",
   "metadata": {},
   "outputs": [],
   "source": [
    "data_pipe = DataPipeline(read_dir=INPUT_PATH, save_dir=ETL_PATH, stopwords=[])\n",
    "data_pipe.parse(os.listdir(INPUT_PATH), OUTPUT_FILE)"
   ]
  },
  {
   "cell_type": "code",
   "execution_count": null,
   "id": "2adf9a32-a987-4e7c-a43e-bb8203741e4e",
   "metadata": {},
   "outputs": [],
   "source": []
  }
 ],
 "metadata": {
  "kernelspec": {
   "display_name": "Python 3 (ipykernel)",
   "language": "python",
   "name": "python3"
  },
  "language_info": {
   "codemirror_mode": {
    "name": "ipython",
    "version": 3
   },
   "file_extension": ".py",
   "mimetype": "text/x-python",
   "name": "python",
   "nbconvert_exporter": "python",
   "pygments_lexer": "ipython3",
   "version": "3.9.5"
  }
 },
 "nbformat": 4,
 "nbformat_minor": 5
}
